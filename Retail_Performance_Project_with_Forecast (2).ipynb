{
 "cells": [
  {
   "cell_type": "markdown",
   "id": "25dda60c",
   "metadata": {},
   "source": [
    "# Retail Analysis + Forecast (method: ARIMA (fallback))"
   ]
  },
  {
   "cell_type": "code",
   "execution_count": null,
   "id": "e042cc5e",
   "metadata": {},
   "outputs": [],
   "source": [
    "import pandas as pd\n",
    "from IPython.display import Image, display\n",
    "%matplotlib inline\n",
    "df = pd.read_csv('/mnt/data/retail_project/retail_transactions.csv')\n",
    "df.head()"
   ]
  },
  {
   "cell_type": "code",
   "execution_count": null,
   "id": "0943760e",
   "metadata": {},
   "outputs": [],
   "source": [
    "for p in ['/mnt/data/retail_project/forecast_arima_plot.png']:\n",
    "    display(Image(filename=p))"
   ]
  }
 ],
 "metadata": {},
 "nbformat": 4,
 "nbformat_minor": 5
}
